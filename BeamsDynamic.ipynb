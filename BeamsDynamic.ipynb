{
 "cells": [
  {
   "cell_type": "markdown",
   "metadata": {},
   "source": [
    "# Импорт библиотек"
   ]
  },
  {
   "cell_type": "code",
   "execution_count": 16,
   "metadata": {},
   "outputs": [
    {
     "name": "stdout",
     "output_type": "stream",
     "text": [
      "The line_profiler extension is already loaded. To reload it, use:\n",
      "  %reload_ext line_profiler\n"
     ]
    }
   ],
   "source": [
    "import os\n",
    "import itertools\n",
    "from mpl_toolkits.mplot3d import Axes3D\n",
    "import matplotlib.pyplot as plt\n",
    "import matplotlib\n",
    "import seaborn as sns; sns.set()\n",
    "import numpy as np\n",
    "import re\n",
    "import pandas as pd\n",
    "from scipy.stats import norm\n",
    "import pint\n",
    "ureg = pint.UnitRegistry()\n",
    "\n",
    "%load_ext line_profiler\n",
    "\n",
    "from ipywidgets import interact, interactive, fixed, interact_manual\n",
    "import ipywidgets as widgets"
   ]
  },
  {
   "cell_type": "markdown",
   "metadata": {},
   "source": [
    "# Константы"
   ]
  },
  {
   "cell_type": "code",
   "execution_count": 17,
   "metadata": {},
   "outputs": [],
   "source": [
    "pi = np.pi\n",
    "speed_of_light = c = 299792458.0 * ureg.meters / ureg.seconds\n",
    "electron_mass = m_e = 9.1093837015e-31 * ureg.kilogram\n",
    "eps0 = 8.854188e-12 * ureg.farad / ureg.m\n",
    "q_e = 9.10938356e-31 * ureg.coulomb"
   ]
  },
  {
   "cell_type": "markdown",
   "metadata": {},
   "source": [
    "# Входные данные"
   ]
  },
  {
   "cell_type": "code",
   "execution_count": 18,
   "metadata": {},
   "outputs": [],
   "source": [
    "Q = -100e-9 * ureg.coulomb # Заряд пучка\n",
    "N = 200  # Макрочастиц в пучке\n",
    "\n",
    "pos_offsets = offset_x, offset_y, offset_z = 0.02 * ureg.m, 0.02 * ureg.m, 0 * ureg.m # Средние значения координат\n",
    "pos_sigmas = sigma_x, sigma_y, sigma_z = 1e-4 * ureg.m, 1e-4 * ureg.m, 0.004 * ureg.m # Отклонения кординат\n",
    "\n",
    "W, dW = 50 * ureg.megaelectron_volt, 1 * ureg.megaelectron_volt # Энергия и её разброс\n",
    "\n",
    "eps_x, eps_y = 1e-9 * ureg.mm * ureg.millirad, 1e-9 * ureg.mm * ureg.millirad  # Эммитансы"
   ]
  },
  {
   "cell_type": "markdown",
   "metadata": {},
   "source": [
    "# Генерация пучка"
   ]
  },
  {
   "cell_type": "code",
   "execution_count": 27,
   "metadata": {
    "code_folding": []
   },
   "outputs": [],
   "source": [
    "class Particle:\n",
    "    __slots__ = (\"q\", \"pos\", \"pulse\", \"W\")\n",
    "    \n",
    "    def __init__(self, q, pos, pulse, W=None):\n",
    "        self.q = q\n",
    "        self.pos = pos\n",
    "        self.pulse = pulse\n",
    "        if W is None:\n",
    "            self.W = (c * np.sqrt(np.sum(self.pulse**2) + (m_e * c)**2)).to(\"megaelectron_volt\")\n",
    "        else:\n",
    "            self.W = W\n",
    "            \n",
    "    def recount_enegrgy(self):\n",
    "        self.W = (c * np.sqrt(np.sum(self.pulse**2) + (m_e * c)**2)).to(\"megaelectron_volt\")\n",
    "        \n",
    "    def __str__(self):\n",
    "        res = (\n",
    "            \"<class Particle>\\n\"\n",
    "            f\"Координата: {self.pos}\\n\"\n",
    "            f\"Импульс: {self.pulse}\\n\"\n",
    "            f\"Энергия: {self.W}\\n\"\n",
    "            f\"Заряд: {self.q}\\n\"\n",
    "        )\n",
    "        return res\n",
    "    \n",
    "    def to_si(self):\n",
    "        old_system = ureg.default_system\n",
    "        ureg.default_system = \"SI\"\n",
    "        \n",
    "        res = Particle(\n",
    "            self.q.to_base_units(),\n",
    "            self.pos.to_base_units(), \n",
    "            self.pulse.to_base_units(),\n",
    "            self.W.to_base_units()\n",
    "        )\n",
    "        \n",
    "        ureg.default_system = old_system\n",
    "        \n",
    "        return res\n",
    "    \n",
    "    def to_dict(self, magnitude=False):\n",
    "        res = {\n",
    "            \"q\": self.q,\n",
    "            \"w\": self.W,\n",
    "            \"x\": self.pos[0],\n",
    "            \"y\": self.pos[1],\n",
    "            \"z\": self.pos[2],\n",
    "            \"px\": self.pulse[0],\n",
    "            \"py\": self.pulse[1],\n",
    "            \"pz\": self.pulse[2],\n",
    "        }\n",
    "        \n",
    "        if magnitude:\n",
    "            for key in res:\n",
    "                res[key] = res[key].magnitude\n",
    "        \n",
    "        return res\n",
    "    \n",
    "    def __repr__(self):\n",
    "        return str(self)"
   ]
  },
  {
   "cell_type": "code",
   "execution_count": 28,
   "metadata": {},
   "outputs": [
    {
     "name": "stderr",
     "output_type": "stream",
     "text": [
      "D:\\Soft\\miniconda3\\lib\\site-packages\\ipykernel_launcher.py:19: UnitStrippedWarning: The unit of the quantity is stripped when downcasting to ndarray.\n",
      "D:\\Soft\\miniconda3\\lib\\site-packages\\ipykernel_launcher.py:20: UnitStrippedWarning: The unit of the quantity is stripped when downcasting to ndarray.\n"
     ]
    },
    {
     "data": {
      "text/plain": [
       "<class Particle>\n",
       "Координата: [0.02003784194739876 0.019912706583557552 0.003280646088225112] meter\n",
       "Импульс: [-2.899454118419793e-37 7.330520422881128e-38 2.696118564540206e-20] kilogram * meter / second\n",
       "Энергия: 50.451208518372596 megaelectron_volt\n",
       "Заряд: -4.999999999999999e-10 coulomb"
      ]
     },
     "execution_count": 28,
     "metadata": {},
     "output_type": "execute_result"
    }
   ],
   "source": [
    "def generate_particle():\n",
    "    q = Q / N  # Заряд макрочастицы\n",
    "\n",
    "    # Генерация координат\n",
    "    x = np.random.normal(offset_x.to(\"m\").magnitude, sigma_x.to(\"m\").magnitude)\n",
    "    y = np.random.normal(offset_y.to(\"m\").magnitude, sigma_y.to(\"m\").magnitude) \n",
    "    z = np.random.normal(0, sigma_z.to(\"m\").magnitude) \n",
    "\n",
    "    pos = np.array([x, y, z]) * ureg.m\n",
    "   \n",
    "    # Генерация импульсов и энергии\n",
    "    mean_pulse_z = p0z = np.sqrt((W / c)**2 - (m_e * c)**2)\n",
    "    sigma_pz = np.sqrt(((W+dW) / c)**2 - (m_e * c)**2) - p0z \n",
    "\n",
    "    gamma = (W / (m_e * c**2)).to_base_units()\n",
    "    sigma_px = (eps_x * 0.0001 / (gamma * sigma_x)).to_base_units()\n",
    "    sigma_py = (eps_y * 0.0001 / (gamma * sigma_y)).to_base_units()\n",
    "\n",
    "    px = (np.random.normal(0, sigma_px) * p0z).to_base_units()\n",
    "    py = (np.random.normal(0, sigma_py) * p0z).to_base_units()\n",
    "    pz = np.random.normal(p0z.to_base_units().magnitude, sigma_pz.to_base_units().magnitude) * p0z.to_base_units().units\n",
    "\n",
    "    pulse = np.array([px.to_base_units().magnitude, py.to_base_units().magnitude, pz.to_base_units().magnitude]) * px.to_base_units().units\n",
    "\n",
    "    return Particle(q, pos, pulse)\n",
    "\n",
    "generate_particle()"
   ]
  },
  {
   "cell_type": "code",
   "execution_count": 29,
   "metadata": {},
   "outputs": [
    {
     "name": "stderr",
     "output_type": "stream",
     "text": [
      "D:\\Soft\\miniconda3\\lib\\site-packages\\ipykernel_launcher.py:19: UnitStrippedWarning: The unit of the quantity is stripped when downcasting to ndarray.\n",
      "D:\\Soft\\miniconda3\\lib\\site-packages\\ipykernel_launcher.py:20: UnitStrippedWarning: The unit of the quantity is stripped when downcasting to ndarray.\n"
     ]
    }
   ],
   "source": [
    "bunch = np.array([generate_particle() for _ in range(50)])"
   ]
  },
  {
   "cell_type": "code",
   "execution_count": 41,
   "metadata": {},
   "outputs": [],
   "source": [
    "df = pd.DataFrame([x.to_si().to_dict(magnitude=True) for x in bunch])\n",
    "df.to_csv(\"data.csv\", sep=\" \", index=False)"
   ]
  },
  {
   "cell_type": "markdown",
   "metadata": {},
   "source": [
    "# Вычисление силы Кулона"
   ]
  },
  {
   "cell_type": "code",
   "execution_count": 180,
   "metadata": {
    "code_folding": []
   },
   "outputs": [
    {
     "data": {
      "text/plain": [
       "[-6.49495882937961e-05 <Unit('kilogram * meter / second ** 2')>,\n",
       " -6.49495882937961e-05 <Unit('kilogram * meter / second ** 2')>,\n",
       " 0.0 <Unit('kilogram * meter / second ** 2')>]"
      ]
     },
     "execution_count": 180,
     "metadata": {},
     "output_type": "execute_result"
    }
   ],
   "source": [
    "def get_coulomb_force(p1, p2):\n",
    "    gamma = (p1.W / (m_e * c**2))\n",
    "  \n",
    "    r0 = np.sqrt(p1.pos[0]**2 + p1.pos[1]**2)\n",
    "    if p1.pos[1] >= 0:\n",
    "        teta0 = np.arccos((p1.pos[0] / r0) if r0 != 0 else 1) # Angle from [0; pi]\n",
    "    else:\n",
    "        teta0 = 2*pi - np.arccos((p1.pos[0] / r0) if r0 != 0 else 1)\n",
    "   \n",
    "    r = np.sqrt(p2.pos[0]**2 + p2.pos[1]**2)\n",
    "    if p2.pos[1] >= 0:\n",
    "        teta = np.arccos((p2.pos[0] / r) if r != 0 else 1) # Angle from [0; pi]\n",
    "    else:\n",
    "        teta = 2*pi - np.arccos((p2.pos[0] / r) if r != 0 else 1)\n",
    "    \n",
    "    dteta_sin = np.sin(teta - teta0)\n",
    "    dteta_cos = np.cos(teta - teta0)\n",
    "    \n",
    "    z_hat = ((p1.pos[2] - p2.pos[2]) * gamma)\n",
    "    denominator = np.power((np.power(r, 2) + np.power(r0, 2) - 2*r*r0*dteta_cos + np.power(z_hat, 2)), 3/2)\n",
    "    \n",
    "    Q = (p1.q * p2.q)\n",
    "    \n",
    "    # Формулы вручную сокращены во избежание потери точности\n",
    "    F_r = (Q * (r - r0 * dteta_cos)) / (gamma * denominator)\n",
    "    F_teta = (Q * (r0 * dteta_sin)) / (gamma * denominator)\n",
    "\n",
    "    teta_sin = np.sin(teta)\n",
    "    teta_cos = np.cos(teta)\n",
    "\n",
    "    K = 1 / (4 * pi * eps0)\n",
    "    Fx = K * (F_r * teta_cos - F_teta * teta_sin)\n",
    "    Fy = K * (F_r * teta_sin + F_teta * teta_cos)\n",
    "    Fz = K * (Q * z_hat / denominator)\n",
    "   \n",
    "    return [Fx.to_base_units(), Fy.to_base_units(), Fz.to_base_units()]\n",
    "\n",
    "#%lprun -f get_coulomb_force get_coulomb_force(bunch[0], bunch[1])\n",
    "[x.to_base_units() for x in get_coulomb_force(bunch[0], bunch[4])]"
   ]
  },
  {
   "cell_type": "markdown",
   "metadata": {},
   "source": [
    "# Динамика"
   ]
  },
  {
   "cell_type": "code",
   "execution_count": 157,
   "metadata": {},
   "outputs": [],
   "source": [
    "# Частица действует сама на себя? Для черенковской силы?\n",
    "# Поправка силы const ldouble abs_val = abs(q_e / data.bunches[s].p[0].q);\n",
    "# Какая частица впереди?\n",
    "\n",
    "dt = 1e-11 * ureg.sec\n",
    "Rc = 2.5 * ureg.meter"
   ]
  },
  {
   "cell_type": "code",
   "execution_count": 183,
   "metadata": {
    "code_folding": []
   },
   "outputs": [],
   "source": [
    "from collections import defaultdict\n",
    "from tqdm.notebook import tqdm\n",
    "\n",
    "def get_forces(bunch, dimension=\"newton\"):\n",
    "    forces = [[0 * ureg(dimension)] * 3 for _ in bunch]\n",
    "\n",
    "    for i in range(len(bunch)):\n",
    "        p1 = bunch[i]\n",
    "        for j in range(i+1, len(bunch)):\n",
    "            p2 = bunch[j]\n",
    "\n",
    "            fx, fy, fz = [x.to(dimension) for x in get_coulomb_force_cpp(p1, p2)]\n",
    "            #print((i+1, j+1), (fx.magnitude, fy.magnitude, fz.magnitude))\n",
    "\n",
    "            forces[j][0] += fx\n",
    "            forces[j][1] += fy\n",
    "            forces[j][2] += fz\n",
    "\n",
    "            forces[i][0] -= fx\n",
    "            forces[i][1] -= fy\n",
    "            forces[i][2] -= fz\n",
    "    \n",
    "    return forces"
   ]
  },
  {
   "cell_type": "markdown",
   "metadata": {},
   "source": [
    "# Визуализация"
   ]
  },
  {
   "cell_type": "code",
   "execution_count": 165,
   "metadata": {
    "code_folding": [
     0
    ]
   },
   "outputs": [],
   "source": [
    "def plot_particles(df, Rc=None):\n",
    "    #matplotlib.rcParams.update({'font.size': 22})\n",
    "\n",
    "    if Rc:\n",
    "        interval = (-Rc, Rc)\n",
    "    \n",
    "    xs, ys, zs = df[\"x\"], df[\"y\"], df[\"z\"]\n",
    "    \n",
    "    fig = plt.figure(figsize=(20, 6))\n",
    "\n",
    "    ax = fig.add_subplot(131)\n",
    "    points = ax.scatter(xs, ys, s=10)\n",
    "    ax.set_xlabel('X Label')\n",
    "    ax.set_ylabel('Y Label')\n",
    "    if Rc:\n",
    "        ax.set_xlim(*interval)\n",
    "        ax.set_ylim(*interval)\n",
    "    \n",
    "    ax = fig.add_subplot(132)\n",
    "    points = ax.scatter(xs, zs, s=10)\n",
    "    ax.set_xlabel('X Label')\n",
    "    ax.set_ylabel('Z Label')\n",
    "    if Rc:\n",
    "        ax.set_xlim(*interval)\n",
    "\n",
    "    ax = fig.add_subplot(133)\n",
    "    points = ax.scatter(ys, zs, s=10)\n",
    "    ax.set_xlabel('Y Label')\n",
    "    ax.set_ylabel('Z Label')\n",
    "    if Rc:\n",
    "        ax.set_xlim(*interval)\n",
    "        \n",
    "    #cmap = sns.cubehelix_palette(as_cmap=True)\n",
    "    #ax = fig.add_axes([0.92, 0.05, 0.02, 0.9])\n",
    "    #cbar = plt.colorbar(points, cax=ax)\n",
    "    #ax.set_ylabel('Energy, MeV', labelpad=15)"
   ]
  },
  {
   "cell_type": "markdown",
   "metadata": {},
   "source": [
    "# Тесты"
   ]
  },
  {
   "cell_type": "code",
   "execution_count": 191,
   "metadata": {},
   "outputs": [
    {
     "name": "stdout",
     "output_type": "stream",
     "text": [
      "1 [<Quantity(12.7113278, 'dyne')>, <Quantity(12.7113278, 'dyne')>, <Quantity(0.0, 'dyne')>]\n",
      "2 [<Quantity(-12.7113278, 'dyne')>, <Quantity(12.7113278, 'dyne')>, <Quantity(0.0, 'dyne')>]\n",
      "3 [<Quantity(-12.7113278, 'dyne')>, <Quantity(-12.7113278, 'dyne')>, <Quantity(0.0, 'dyne')>]\n",
      "4 [<Quantity(12.7113278, 'dyne')>, <Quantity(-12.7113278, 'dyne')>, <Quantity(0.0, 'dyne')>]\n",
      "5 [<Quantity(8.8817842e-16, 'dyne')>, <Quantity(0.0, 'dyne')>, <Quantity(0.0, 'dyne')>]\n"
     ]
    }
   ],
   "source": [
    "# Test 1\n",
    "init_q = 0.2 * ureg(\"nanocoulomb\")\n",
    "init_pulse = np.array([0, 0, 0]) * ureg(\"kg * m / s\")\n",
    "init_W = 100 * ureg.megaelectron_volt\n",
    "\n",
    "bunch = [\n",
    "    Particle(init_q, np.array([ 0.01,  0.01, 0]) * ureg.cm, init_pulse, init_W),\n",
    "    Particle(init_q, np.array([-0.01,  0.01, 0]) * ureg.cm, init_pulse, init_W),\n",
    "    Particle(init_q, np.array([-0.01, -0.01, 0]) * ureg.cm, init_pulse, init_W),\n",
    "    Particle(init_q, np.array([ 0.01, -0.01, 0]) * ureg.cm, init_pulse, init_W),\n",
    "    Particle(init_q, np.array([ 0.00,  0.00, 0]) * ureg.cm, init_pulse, init_W),\n",
    "]\n",
    "\n",
    "for i, force in enumerate(get_forces(bunch, \"dyne\")):\n",
    "    print(i+1, force)"
   ]
  },
  {
   "cell_type": "code",
   "execution_count": 192,
   "metadata": {},
   "outputs": [
    {
     "name": "stdout",
     "output_type": "stream",
     "text": [
      "1 [<Quantity(35.9530643, 'dyne')>, <Quantity(-2.66453526e-15, 'dyne')>, <Quantity(0.0, 'dyne')>]\n",
      "2 [<Quantity(2.57548307e-15, 'dyne')>, <Quantity(35.9530643, 'dyne')>, <Quantity(0.0, 'dyne')>]\n",
      "3 [<Quantity(-35.9530643, 'dyne')>, <Quantity(5.80245322e-15, 'dyne')>, <Quantity(0.0, 'dyne')>]\n",
      "4 [<Quantity(-6.92732299e-15, 'dyne')>, <Quantity(-35.9530643, 'dyne')>, <Quantity(0.0, 'dyne')>]\n",
      "5 [<Quantity(3.37460931e-15, 'dyne')>, <Quantity(-3.55271368e-15, 'dyne')>, <Quantity(0.0, 'dyne')>]\n"
     ]
    }
   ],
   "source": [
    "# Test 2\n",
    "init_q = 0.2 * ureg(\"nanocoulomb\")\n",
    "init_pulse = np.array([0, 0, 0]) * ureg(\"kg * m / s\")\n",
    "init_W = 100 * ureg.megaelectron_volt\n",
    "\n",
    "bunch = [\n",
    "    Particle(init_q, np.array([ 0.01,  0.00, 0]) * ureg.cm, init_pulse, init_W),\n",
    "    Particle(init_q, np.array([ 0.00,  0.01, 0]) * ureg.cm, init_pulse, init_W),\n",
    "    Particle(init_q, np.array([-0.01,  0.00, 0]) * ureg.cm, init_pulse, init_W),\n",
    "    Particle(init_q, np.array([ 0.00, -0.01, 0]) * ureg.cm, init_pulse, init_W),\n",
    "    Particle(init_q, np.array([ 0.00,  0.00, 0]) * ureg.cm, init_pulse, init_W),\n",
    "]\n",
    "\n",
    "for i, force in enumerate(get_forces(bunch, \"dyne\")):\n",
    "    print(i+1, force)"
   ]
  },
  {
   "cell_type": "code",
   "execution_count": 195,
   "metadata": {},
   "outputs": [
    {
     "name": "stdout",
     "output_type": "stream",
     "text": [
      "1 [<Quantity(26.1524727, 'dyne')>, <Quantity(-1.53628047e-16, 'dyne')>, <Quantity(0.0, 'dyne')>]\n",
      "2 [<Quantity(6.63379797, 'dyne')>, <Quantity(-4.47864816e-16, 'dyne')>, <Quantity(0.0, 'dyne')>]\n",
      "3 [<Quantity(-6.63379797, 'dyne')>, <Quantity(3.64541129e-16, 'dyne')>, <Quantity(0.0, 'dyne')>]\n",
      "4 [<Quantity(-26.1524727, 'dyne')>, <Quantity(3.04912616e-15, 'dyne')>, <Quantity(0.0, 'dyne')>]\n",
      "5 [<Quantity(1.77635684e-15, 'dyne')>, <Quantity(-2.81217442e-15, 'dyne')>, <Quantity(0.0, 'dyne')>]\n"
     ]
    }
   ],
   "source": [
    "# Test 3\n",
    "init_q = 0.2 * ureg(\"nanocoulomb\")\n",
    "init_pulse = np.array([0, 0, 0]) * ureg(\"kg * m / s\")\n",
    "init_W = 100 * ureg.megaelectron_volt\n",
    "\n",
    "bunch = [\n",
    "    Particle(init_q, np.array([ 0.02,  0.00, 0]) * ureg.cm, init_pulse, init_W),\n",
    "    Particle(init_q, np.array([ 0.01,  0.00, 0]) * ureg.cm, init_pulse, init_W),\n",
    "    Particle(init_q, np.array([-0.01,  0.00, 0]) * ureg.cm, init_pulse, init_W),\n",
    "    Particle(init_q, np.array([-0.02,  0.00, 0]) * ureg.cm, init_pulse, init_W),\n",
    "    Particle(init_q, np.array([ 0.00,  0.00, 0]) * ureg.cm, init_pulse, init_W),\n",
    "]\n",
    "\n",
    "for i, force in enumerate(get_forces(bunch, \"dyne\")):\n",
    "    print(i+1, force)"
   ]
  },
  {
   "cell_type": "code",
   "execution_count": 196,
   "metadata": {},
   "outputs": [
    {
     "name": "stdout",
     "output_type": "stream",
     "text": [
      "1 [<Quantity(1.75500515e-15, 'dyne')>, <Quantity(26.1524727, 'dyne')>, <Quantity(0.0, 'dyne')>]\n",
      "2 [<Quantity(8.54067788e-16, 'dyne')>, <Quantity(6.63379797, 'dyne')>, <Quantity(0.0, 'dyne')>]\n",
      "3 [<Quantity(-7.70744101e-16, 'dyne')>, <Quantity(-6.63379797, 'dyne')>, <Quantity(0.0, 'dyne')>]\n",
      "4 [<Quantity(-4.65050326e-15, 'dyne')>, <Quantity(-26.1524727, 'dyne')>, <Quantity(0.0, 'dyne')>]\n",
      "5 [<Quantity(2.81217442e-15, 'dyne')>, <Quantity(1.77635684e-15, 'dyne')>, <Quantity(0.0, 'dyne')>]\n"
     ]
    }
   ],
   "source": [
    "# Test 4\n",
    "init_q = 0.2 * ureg(\"nanocoulomb\")\n",
    "init_pulse = np.array([0, 0, 0]) * ureg(\"kg * m / s\")\n",
    "init_W = 100 * ureg.megaelectron_volt\n",
    "\n",
    "bunch = [\n",
    "    Particle(init_q, np.array([ 0.00,  0.02, 0]) * ureg.cm, init_pulse, init_W),\n",
    "    Particle(init_q, np.array([ 0.00,  0.01, 0]) * ureg.cm, init_pulse, init_W),\n",
    "    Particle(init_q, np.array([ 0.00, -0.01, 0]) * ureg.cm, init_pulse, init_W),\n",
    "    Particle(init_q, np.array([ 0.00, -0.02, 0]) * ureg.cm, init_pulse, init_W),\n",
    "    Particle(init_q, np.array([ 0.00,  0.00, 0]) * ureg.cm, init_pulse, init_W),\n",
    "]\n",
    "\n",
    "for i, force in enumerate(get_forces(bunch, \"dyne\")):\n",
    "    print(i+1, force)"
   ]
  },
  {
   "cell_type": "markdown",
   "metadata": {},
   "source": [
    "# Вызов кода на C++"
   ]
  },
  {
   "cell_type": "code",
   "execution_count": 158,
   "metadata": {},
   "outputs": [
    {
     "data": {
      "text/html": [
       "<div>\n",
       "<style scoped>\n",
       "    .dataframe tbody tr th:only-of-type {\n",
       "        vertical-align: middle;\n",
       "    }\n",
       "\n",
       "    .dataframe tbody tr th {\n",
       "        vertical-align: top;\n",
       "    }\n",
       "\n",
       "    .dataframe thead th {\n",
       "        text-align: right;\n",
       "    }\n",
       "</style>\n",
       "<table border=\"1\" class=\"dataframe\">\n",
       "  <thead>\n",
       "    <tr style=\"text-align: right;\">\n",
       "      <th></th>\n",
       "      <th>q</th>\n",
       "      <th>w</th>\n",
       "      <th>x</th>\n",
       "      <th>y</th>\n",
       "      <th>z</th>\n",
       "      <th>px</th>\n",
       "      <th>py</th>\n",
       "      <th>pz</th>\n",
       "    </tr>\n",
       "  </thead>\n",
       "  <tbody>\n",
       "    <tr>\n",
       "      <th>0</th>\n",
       "      <td>2.000000e-10</td>\n",
       "      <td>1.602177e-11</td>\n",
       "      <td>0.0001</td>\n",
       "      <td>0.0001</td>\n",
       "      <td>0.0</td>\n",
       "      <td>0.0</td>\n",
       "      <td>0.0</td>\n",
       "      <td>0.0</td>\n",
       "    </tr>\n",
       "    <tr>\n",
       "      <th>1</th>\n",
       "      <td>2.000000e-10</td>\n",
       "      <td>1.602177e-11</td>\n",
       "      <td>-0.0001</td>\n",
       "      <td>0.0001</td>\n",
       "      <td>0.0</td>\n",
       "      <td>0.0</td>\n",
       "      <td>0.0</td>\n",
       "      <td>0.0</td>\n",
       "    </tr>\n",
       "    <tr>\n",
       "      <th>2</th>\n",
       "      <td>2.000000e-10</td>\n",
       "      <td>1.602177e-11</td>\n",
       "      <td>-0.0001</td>\n",
       "      <td>-0.0001</td>\n",
       "      <td>0.0</td>\n",
       "      <td>0.0</td>\n",
       "      <td>0.0</td>\n",
       "      <td>0.0</td>\n",
       "    </tr>\n",
       "    <tr>\n",
       "      <th>3</th>\n",
       "      <td>2.000000e-10</td>\n",
       "      <td>1.602177e-11</td>\n",
       "      <td>0.0001</td>\n",
       "      <td>-0.0001</td>\n",
       "      <td>0.0</td>\n",
       "      <td>0.0</td>\n",
       "      <td>0.0</td>\n",
       "      <td>0.0</td>\n",
       "    </tr>\n",
       "    <tr>\n",
       "      <th>4</th>\n",
       "      <td>2.000000e-10</td>\n",
       "      <td>1.602177e-11</td>\n",
       "      <td>0.0000</td>\n",
       "      <td>0.0000</td>\n",
       "      <td>0.0</td>\n",
       "      <td>0.0</td>\n",
       "      <td>0.0</td>\n",
       "      <td>0.0</td>\n",
       "    </tr>\n",
       "  </tbody>\n",
       "</table>\n",
       "</div>"
      ],
      "text/plain": [
       "              q             w       x       y    z   px   py   pz\n",
       "0  2.000000e-10  1.602177e-11  0.0001  0.0001  0.0  0.0  0.0  0.0\n",
       "1  2.000000e-10  1.602177e-11 -0.0001  0.0001  0.0  0.0  0.0  0.0\n",
       "2  2.000000e-10  1.602177e-11 -0.0001 -0.0001  0.0  0.0  0.0  0.0\n",
       "3  2.000000e-10  1.602177e-11  0.0001 -0.0001  0.0  0.0  0.0  0.0\n",
       "4  2.000000e-10  1.602177e-11  0.0000  0.0000  0.0  0.0  0.0  0.0"
      ]
     },
     "execution_count": 158,
     "metadata": {},
     "output_type": "execute_result"
    }
   ],
   "source": [
    "df = pd.DataFrame([x.to_si().to_dict(magnitude=True) for x in bunch])\n",
    "df.head()"
   ]
  },
  {
   "cell_type": "code",
   "execution_count": 166,
   "metadata": {},
   "outputs": [
    {
     "data": {
      "text/html": [
       "<div>\n",
       "<style scoped>\n",
       "    .dataframe tbody tr th:only-of-type {\n",
       "        vertical-align: middle;\n",
       "    }\n",
       "\n",
       "    .dataframe tbody tr th {\n",
       "        vertical-align: top;\n",
       "    }\n",
       "\n",
       "    .dataframe thead th {\n",
       "        text-align: right;\n",
       "    }\n",
       "</style>\n",
       "<table border=\"1\" class=\"dataframe\">\n",
       "  <thead>\n",
       "    <tr style=\"text-align: right;\">\n",
       "      <th></th>\n",
       "      <th>q</th>\n",
       "      <th>w</th>\n",
       "      <th>x</th>\n",
       "      <th>y</th>\n",
       "      <th>z</th>\n",
       "      <th>px</th>\n",
       "      <th>py</th>\n",
       "      <th>pz</th>\n",
       "    </tr>\n",
       "  </thead>\n",
       "  <tbody>\n",
       "    <tr>\n",
       "      <th>0</th>\n",
       "      <td>2.000000e-10</td>\n",
       "      <td>1.602177e-11</td>\n",
       "      <td>-1.426105e+02</td>\n",
       "      <td>-1.426105e+02</td>\n",
       "      <td>0.0</td>\n",
       "      <td>-1.271133e-15</td>\n",
       "      <td>-1.271133e-15</td>\n",
       "      <td>0.0</td>\n",
       "    </tr>\n",
       "    <tr>\n",
       "      <th>1</th>\n",
       "      <td>2.000000e-10</td>\n",
       "      <td>1.602177e-11</td>\n",
       "      <td>1.426105e+02</td>\n",
       "      <td>-1.426105e+02</td>\n",
       "      <td>0.0</td>\n",
       "      <td>1.271133e-15</td>\n",
       "      <td>-1.271133e-15</td>\n",
       "      <td>0.0</td>\n",
       "    </tr>\n",
       "    <tr>\n",
       "      <th>2</th>\n",
       "      <td>2.000000e-10</td>\n",
       "      <td>1.602177e-11</td>\n",
       "      <td>1.426105e+02</td>\n",
       "      <td>1.426105e+02</td>\n",
       "      <td>0.0</td>\n",
       "      <td>1.271133e-15</td>\n",
       "      <td>1.271133e-15</td>\n",
       "      <td>0.0</td>\n",
       "    </tr>\n",
       "    <tr>\n",
       "      <th>3</th>\n",
       "      <td>2.000000e-10</td>\n",
       "      <td>1.602177e-11</td>\n",
       "      <td>-1.426105e+02</td>\n",
       "      <td>1.426105e+02</td>\n",
       "      <td>0.0</td>\n",
       "      <td>-1.271133e-15</td>\n",
       "      <td>1.271133e-15</td>\n",
       "      <td>0.0</td>\n",
       "    </tr>\n",
       "    <tr>\n",
       "      <th>4</th>\n",
       "      <td>2.000000e-10</td>\n",
       "      <td>1.602177e-11</td>\n",
       "      <td>-1.520482e-14</td>\n",
       "      <td>-3.040963e-14</td>\n",
       "      <td>0.0</td>\n",
       "      <td>-1.355253e-31</td>\n",
       "      <td>-2.710505e-31</td>\n",
       "      <td>0.0</td>\n",
       "    </tr>\n",
       "  </tbody>\n",
       "</table>\n",
       "</div>"
      ],
      "text/plain": [
       "              q             w             x             y    z            px  \\\n",
       "0  2.000000e-10  1.602177e-11 -1.426105e+02 -1.426105e+02  0.0 -1.271133e-15   \n",
       "1  2.000000e-10  1.602177e-11  1.426105e+02 -1.426105e+02  0.0  1.271133e-15   \n",
       "2  2.000000e-10  1.602177e-11  1.426105e+02  1.426105e+02  0.0  1.271133e-15   \n",
       "3  2.000000e-10  1.602177e-11 -1.426105e+02  1.426105e+02  0.0 -1.271133e-15   \n",
       "4  2.000000e-10  1.602177e-11 -1.520482e-14 -3.040963e-14  0.0 -1.355253e-31   \n",
       "\n",
       "             py   pz  \n",
       "0 -1.271133e-15  0.0  \n",
       "1 -1.271133e-15  0.0  \n",
       "2  1.271133e-15  0.0  \n",
       "3  1.271133e-15  0.0  \n",
       "4 -2.710505e-31  0.0  "
      ]
     },
     "execution_count": 166,
     "metadata": {},
     "output_type": "execute_result"
    }
   ],
   "source": [
    "import subprocess\n",
    "\n",
    "df.to_csv(\"data.csv\", sep=\" \", index=False)\n",
    "exe_path = \"./console_particles_cpu/build/particles\"\n",
    "subprocess.call([str(x) for x in [exe_path, Rc.magnitude, dt.magnitude]])\n",
    "df = pd.read_csv(\"res.csv\", sep=\" \")\n",
    "df.head()"
   ]
  },
  {
   "cell_type": "code",
   "execution_count": 162,
   "metadata": {},
   "outputs": [
    {
     "data": {
      "image/png": "[encoded data removed]",
      "text/plain": [
       "<Figure size 1440x432 with 3 Axes>"
      ]
     },
     "metadata": {},
     "output_type": "display_data"
    }
   ],
   "source": [
    "plot_particles(df)"
   ]
  },
  {
   "cell_type": "code",
   "execution_count": 188,
   "metadata": {},
   "outputs": [],
   "source": [
    "import subprocess\n",
    "\n",
    "def get_coulomb_force_cpp(p1, p2):\n",
    "    bunch = [p1, p2]\n",
    "    \n",
    "    df = pd.DataFrame([x.to_si().to_dict(magnitude=True) for x in bunch])\n",
    "    df.to_csv(\"data.csv\", sep=\" \", index=False)\n",
    "    \n",
    "    exe_path = \"./console_particles_cpu/build/getcoulombforce\"\n",
    "    subprocess.call(exe_path)\n",
    "    df = pd.read_csv(\"res.csv\", sep=\" \")\n",
    "    \n",
    "    return [x * ureg(\"newton\") for x in df.iloc[0].values]"
   ]
  },
  {
   "cell_type": "code",
   "execution_count": 189,
   "metadata": {},
   "outputs": [
    {
     "data": {
      "text/plain": [
       "[-4.592629360442464e-05 <Unit('newton')>,\n",
       " 3.544964046332402e-21 <Unit('newton')>,\n",
       " 0.0 <Unit('newton')>]"
      ]
     },
     "execution_count": 189,
     "metadata": {},
     "output_type": "execute_result"
    }
   ],
   "source": [
    "get_coulomb_force_cpp(bunch[0], bunch[1])"
   ]
  },
  {
   "cell_type": "code",
   "execution_count": 190,
   "metadata": {},
   "outputs": [
    {
     "data": {
      "text/plain": [
       "[-4.5926294317817636e-05 <Unit('kilogram * meter / second ** 2')>,\n",
       " 3.540148042211333e-21 <Unit('kilogram * meter / second ** 2')>,\n",
       " 0.0 <Unit('kilogram * meter / second ** 2')>]"
      ]
     },
     "execution_count": 190,
     "metadata": {},
     "output_type": "execute_result"
    }
   ],
   "source": [
    "get_coulomb_force(bunch[0], bunch[1])"
   ]
  }
 ],
 "metadata": {
  "kernelspec": {
   "display_name": "Python 3",
   "language": "python",
   "name": "python3"
  },
  "language_info": {
   "codemirror_mode": {
    "name": "ipython",
    "version": 3
   },
   "file_extension": ".py",
   "mimetype": "text/x-python",
   "name": "python",
   "nbconvert_exporter": "python",
   "pygments_lexer": "ipython3",
   "version": "3.7.6"
  }
 },
 "nbformat": 4,
 "nbformat_minor": 4
}
