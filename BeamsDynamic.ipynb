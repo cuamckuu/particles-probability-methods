{
 "cells": [
  {
   "cell_type": "markdown",
   "metadata": {},
   "source": [
    "# Импорт библиотек"
   ]
  },
  {
   "cell_type": "code",
   "execution_count": 16,
   "metadata": {},
   "outputs": [
    {
     "name": "stdout",
     "output_type": "stream",
     "text": [
      "The line_profiler extension is already loaded. To reload it, use:\n",
      "  %reload_ext line_profiler\n"
     ]
    }
   ],
   "source": [
    "import os\n",
    "import itertools\n",
    "from mpl_toolkits.mplot3d import Axes3D\n",
    "import matplotlib.pyplot as plt\n",
    "import matplotlib\n",
    "import seaborn as sns; sns.set()\n",
    "import numpy as np\n",
    "import re\n",
    "import pandas as pd\n",
    "from scipy.stats import norm\n",
    "import pint\n",
    "ureg = pint.UnitRegistry()\n",
    "\n",
    "%load_ext line_profiler\n",
    "\n",
    "from ipywidgets import interact, interactive, fixed, interact_manual\n",
    "import ipywidgets as widgets"
   ]
  },
  {
   "cell_type": "markdown",
   "metadata": {},
   "source": [
    "# Константы"
   ]
  },
  {
   "cell_type": "code",
   "execution_count": 17,
   "metadata": {},
   "outputs": [],
   "source": [
    "pi = np.pi\n",
    "speed_of_light = c = 299792458.0 * ureg.meters / ureg.seconds\n",
    "electron_mass = m_e = 9.1093837015e-31 * ureg.kilogram\n",
    "eps0 = 8.854188e-12 * ureg.farad / ureg.m\n",
    "q_e = 9.10938356e-31 * ureg.coulomb"
   ]
  },
  {
   "cell_type": "markdown",
   "metadata": {},
   "source": [
    "# Входные данные"
   ]
  },
  {
   "cell_type": "code",
   "execution_count": 18,
   "metadata": {},
   "outputs": [],
   "source": [
    "Q = -100e-9 * ureg.coulomb # Заряд пучка\n",
    "N = 200  # Макрочастиц в пучке\n",
    "\n",
    "pos_offsets = offset_x, offset_y, offset_z = 0.02 * ureg.m, 0.02 * ureg.m, 0 * ureg.m # Средние значения координат\n",
    "pos_sigmas = sigma_x, sigma_y, sigma_z = 1e-4 * ureg.m, 1e-4 * ureg.m, 0.004 * ureg.m # Отклонения кординат\n",
    "\n",
    "W, dW = 50 * ureg.megaelectron_volt, 1 * ureg.megaelectron_volt # Энергия и её разброс\n",
    "\n",
    "eps_x, eps_y = 1e-9 * ureg.mm * ureg.millirad, 1e-9 * ureg.mm * ureg.millirad  # Эммитансы"
   ]
  },
  {
   "cell_type": "markdown",
   "metadata": {},
   "source": [
    "# Генерация пучка"
   ]
  },
  {
   "cell_type": "code",
   "execution_count": 19,
   "metadata": {
    "code_folding": []
   },
   "outputs": [],
   "source": [
    "class Particle:\n",
    "    __slots__ = (\"q\", \"pos\", \"pulse\", \"W\")\n",
    "    \n",
    "    def __init__(self, q, pos, pulse, W=None):\n",
    "        self.q = q\n",
    "        self.pos = pos\n",
    "        self.pulse = pulse\n",
    "        if W is None:\n",
    "            self.W = (c * np.sqrt(np.sum(self.pulse**2) + (m_e * c)**2)).to(\"megaelectron_volt\")\n",
    "        else:\n",
    "            self.W = W\n",
    "            \n",
    "    def recount_enegrgy(self):\n",
    "        self.W = (c * np.sqrt(np.sum(self.pulse**2) + (m_e * c)**2)).to(\"megaelectron_volt\")\n",
    "        \n",
    "    def __str__(self):\n",
    "        res = (\n",
    "            \"<class Particle>\\n\"\n",
    "            f\"Координата: {self.pos}\\n\"\n",
    "            f\"Импульс: {self.pulse}\\n\"\n",
    "            f\"Энергия: {self.W}\\n\"\n",
    "            f\"Заряд: {self.q}\\n\"\n",
    "        )\n",
    "        return res\n",
    "    \n",
    "    def to_si(self):\n",
    "        old_system = ureg.default_system\n",
    "        ureg.default_system = \"SI\"\n",
    "        \n",
    "        res = Particle(\n",
    "            self.q.to_base_units(),\n",
    "            self.pos.to_base_units(), \n",
    "            self.pulse.to_base_units(),\n",
    "            self.W.to_base_units()\n",
    "        )\n",
    "        \n",
    "        ureg.default_system = old_system\n",
    "        \n",
    "        return res\n",
    "    \n",
    "    def to_dict(self, magnitude=False):\n",
    "        res = {\n",
    "            \"q\": self.q,\n",
    "            \"w\": self.W,\n",
    "            \"x\": self.pos[0],\n",
    "            \"y\": self.pos[1],\n",
    "            \"z\": self.pos[2],\n",
    "            \"px\": self.pulse[0],\n",
    "            \"py\": self.pulse[1],\n",
    "            \"pz\": self.pulse[2],\n",
    "        }\n",
    "        \n",
    "        if magnitude:\n",
    "            for key in res:\n",
    "                res[key] = res[key].magnitude\n",
    "        \n",
    "        return res\n",
    "    \n",
    "    def __repr__(self):\n",
    "        return str(self)"
   ]
  },
  {
   "cell_type": "code",
   "execution_count": 20,
   "metadata": {},
   "outputs": [
    {
     "name": "stderr",
     "output_type": "stream",
     "text": [
      "D:\\Soft\\miniconda3\\lib\\site-packages\\ipykernel_launcher.py:19: UnitStrippedWarning: The unit of the quantity is stripped when downcasting to ndarray.\n",
      "D:\\Soft\\miniconda3\\lib\\site-packages\\ipykernel_launcher.py:20: UnitStrippedWarning: The unit of the quantity is stripped when downcasting to ndarray.\n"
     ]
    },
    {
     "data": {
      "text/plain": [
       "<class Particle>\n",
       "Координата: [0.019898874095424655 0.02004396639167837 -0.0056194729101728055] meter\n",
       "Импульс: [1.0371099040397387e-37 3.5536344878821393e-37 2.6792490878994044e-20] kilogram * meter / second\n",
       "Энергия: 50.13557036034344 megaelectron_volt\n",
       "Заряд: -4.999999999999999e-10 coulomb"
      ]
     },
     "execution_count": 20,
     "metadata": {},
     "output_type": "execute_result"
    }
   ],
   "source": [
    "def generate_particle():\n",
    "    q = Q / N  # Заряд макрочастицы\n",
    "\n",
    "    # Генерация координат\n",
    "    x = np.random.normal(offset_x.to(\"m\").magnitude, sigma_x.to(\"m\").magnitude)\n",
    "    y = np.random.normal(offset_y.to(\"m\").magnitude, sigma_y.to(\"m\").magnitude) \n",
    "    z = np.random.normal(0, sigma_z.to(\"m\").magnitude) \n",
    "\n",
    "    pos = np.array([x, y, z]) * ureg.m\n",
    "   \n",
    "    # Генерация импульсов и энергии\n",
    "    mean_pulse_z = p0z = np.sqrt((W / c)**2 - (m_e * c)**2)\n",
    "    sigma_pz = np.sqrt(((W+dW) / c)**2 - (m_e * c)**2) - p0z \n",
    "\n",
    "    gamma = (W / (m_e * c**2)).to_base_units()\n",
    "    sigma_px = (eps_x * 0.0001 / (gamma * sigma_x)).to_base_units()\n",
    "    sigma_py = (eps_y * 0.0001 / (gamma * sigma_y)).to_base_units()\n",
    "\n",
    "    px = (np.random.normal(0, sigma_px) * p0z).to_base_units()\n",
    "    py = (np.random.normal(0, sigma_py) * p0z).to_base_units()\n",
    "    pz = np.random.normal(p0z.to_base_units().magnitude, sigma_pz.to_base_units().magnitude) * p0z.to_base_units().units\n",
    "\n",
    "    pulse = np.array([px.to_base_units().magnitude, py.to_base_units().magnitude, pz.to_base_units().magnitude]) * px.to_base_units().units\n",
    "\n",
    "    return Particle(q, pos, pulse)\n",
    "\n",
    "generate_particle()"
   ]
  },
  {
   "cell_type": "code",
   "execution_count": 21,
   "metadata": {},
   "outputs": [
    {
     "name": "stderr",
     "output_type": "stream",
     "text": [
      "D:\\Soft\\miniconda3\\lib\\site-packages\\ipykernel_launcher.py:19: UnitStrippedWarning: The unit of the quantity is stripped when downcasting to ndarray.\n",
      "D:\\Soft\\miniconda3\\lib\\site-packages\\ipykernel_launcher.py:20: UnitStrippedWarning: The unit of the quantity is stripped when downcasting to ndarray.\n"
     ]
    }
   ],
   "source": [
    "bunch = np.array([generate_particle() for _ in range(50)])"
   ]
  },
  {
   "cell_type": "code",
   "execution_count": 22,
   "metadata": {},
   "outputs": [
    {
     "data": {
      "text/html": [
       "<div>\n",
       "<style scoped>\n",
       "    .dataframe tbody tr th:only-of-type {\n",
       "        vertical-align: middle;\n",
       "    }\n",
       "\n",
       "    .dataframe tbody tr th {\n",
       "        vertical-align: top;\n",
       "    }\n",
       "\n",
       "    .dataframe thead th {\n",
       "        text-align: right;\n",
       "    }\n",
       "</style>\n",
       "<table border=\"1\" class=\"dataframe\">\n",
       "  <thead>\n",
       "    <tr style=\"text-align: right;\">\n",
       "      <th></th>\n",
       "      <th>q</th>\n",
       "      <th>w</th>\n",
       "      <th>x</th>\n",
       "      <th>y</th>\n",
       "      <th>z</th>\n",
       "      <th>px</th>\n",
       "      <th>py</th>\n",
       "      <th>pz</th>\n",
       "    </tr>\n",
       "  </thead>\n",
       "  <tbody>\n",
       "    <tr>\n",
       "      <th>0</th>\n",
       "      <td>-5.000000e-10</td>\n",
       "      <td>8.023939e-12</td>\n",
       "      <td>0.019835</td>\n",
       "      <td>0.020044</td>\n",
       "      <td>0.005670</td>\n",
       "      <td>2.582960e-37</td>\n",
       "      <td>3.570436e-37</td>\n",
       "      <td>2.676359e-20</td>\n",
       "    </tr>\n",
       "    <tr>\n",
       "      <th>1</th>\n",
       "      <td>-5.000000e-10</td>\n",
       "      <td>7.888234e-12</td>\n",
       "      <td>0.019940</td>\n",
       "      <td>0.020051</td>\n",
       "      <td>-0.000891</td>\n",
       "      <td>-3.740938e-37</td>\n",
       "      <td>1.207584e-37</td>\n",
       "      <td>2.631090e-20</td>\n",
       "    </tr>\n",
       "    <tr>\n",
       "      <th>2</th>\n",
       "      <td>-5.000000e-10</td>\n",
       "      <td>7.968443e-12</td>\n",
       "      <td>0.019984</td>\n",
       "      <td>0.020085</td>\n",
       "      <td>-0.003275</td>\n",
       "      <td>4.424977e-37</td>\n",
       "      <td>1.060541e-37</td>\n",
       "      <td>2.657846e-20</td>\n",
       "    </tr>\n",
       "    <tr>\n",
       "      <th>3</th>\n",
       "      <td>-5.000000e-10</td>\n",
       "      <td>7.873815e-12</td>\n",
       "      <td>0.019891</td>\n",
       "      <td>0.020122</td>\n",
       "      <td>-0.003880</td>\n",
       "      <td>1.232459e-37</td>\n",
       "      <td>2.737183e-37</td>\n",
       "      <td>2.626280e-20</td>\n",
       "    </tr>\n",
       "    <tr>\n",
       "      <th>4</th>\n",
       "      <td>-5.000000e-10</td>\n",
       "      <td>7.860892e-12</td>\n",
       "      <td>0.020081</td>\n",
       "      <td>0.019963</td>\n",
       "      <td>-0.004104</td>\n",
       "      <td>3.181137e-37</td>\n",
       "      <td>-3.778369e-38</td>\n",
       "      <td>2.621969e-20</td>\n",
       "    </tr>\n",
       "  </tbody>\n",
       "</table>\n",
       "</div>"
      ],
      "text/plain": [
       "              q             w         x         y         z            px  \\\n",
       "0 -5.000000e-10  8.023939e-12  0.019835  0.020044  0.005670  2.582960e-37   \n",
       "1 -5.000000e-10  7.888234e-12  0.019940  0.020051 -0.000891 -3.740938e-37   \n",
       "2 -5.000000e-10  7.968443e-12  0.019984  0.020085 -0.003275  4.424977e-37   \n",
       "3 -5.000000e-10  7.873815e-12  0.019891  0.020122 -0.003880  1.232459e-37   \n",
       "4 -5.000000e-10  7.860892e-12  0.020081  0.019963 -0.004104  3.181137e-37   \n",
       "\n",
       "             py            pz  \n",
       "0  3.570436e-37  2.676359e-20  \n",
       "1  1.207584e-37  2.631090e-20  \n",
       "2  1.060541e-37  2.657846e-20  \n",
       "3  2.737183e-37  2.626280e-20  \n",
       "4 -3.778369e-38  2.621969e-20  "
      ]
     },
     "execution_count": 22,
     "metadata": {},
     "output_type": "execute_result"
    }
   ],
   "source": [
    "df = pd.DataFrame([x.to_si().to_dict(magnitude=True) for x in bunch])\n",
    "df.head()"
   ]
  },
  {
   "cell_type": "code",
   "execution_count": 23,
   "metadata": {},
   "outputs": [],
   "source": [
    "df.to_csv(\"console_particles_cpu/data.csv\", sep=\" \", index=False)"
   ]
  },
  {
   "cell_type": "markdown",
   "metadata": {},
   "source": [
    "# Вычисление силы Кулона"
   ]
  },
  {
   "cell_type": "code",
   "execution_count": 100,
   "metadata": {
    "code_folding": []
   },
   "outputs": [
    {
     "data": {
      "text/plain": [
       "[-6.49495882937961e-05 <Unit('kilogram * meter / second ** 2')>,\n",
       " -6.49495882937961e-05 <Unit('kilogram * meter / second ** 2')>,\n",
       " 0.0 <Unit('kilogram * meter / second ** 2')>]"
      ]
     },
     "execution_count": 100,
     "metadata": {},
     "output_type": "execute_result"
    }
   ],
   "source": [
    "def get_coulomb_force(p1, p2):\n",
    "    gamma = (p1.W / (m_e * c**2))\n",
    "  \n",
    "    r0 = np.sqrt(p1.pos[0]**2 + p1.pos[1]**2)\n",
    "    if p1.pos[1] >= 0:\n",
    "        teta0 = np.arccos((p1.pos[0] / r0) if r0 != 0 else 0) # Angle from [0; pi]\n",
    "    else:\n",
    "        teta0 = 2*pi - np.arccos((p1.pos[0] / r0) if r0 != 0 else 0)\n",
    "   \n",
    "    r = np.sqrt(p2.pos[0]**2 + p2.pos[1]**2)\n",
    "    if p2.pos[1] >= 0:\n",
    "        teta = np.arccos((p2.pos[0] / r) if r != 0 else 0) # Angle from [0; pi]\n",
    "    else:\n",
    "        teta = 2*pi - np.arccos((p2.pos[0] / r) if r != 0 else 0)\n",
    "    \n",
    "    dteta_sin = np.sin(teta - teta0)\n",
    "    dteta_cos = np.cos(teta - teta0)\n",
    "    \n",
    "    z_hat = ((p1.pos[2] - p2.pos[2]) * gamma)\n",
    "    denominator = np.power((np.power(r, 2) + np.power(r0, 2) - 2*r*r0*dteta_cos + np.power(z_hat, 2)), 3/2)\n",
    "    \n",
    "    Q = (p1.q * p2.q)\n",
    "    \n",
    "    # Формулы вручную сокращены во избежание потери точности\n",
    "    F_r = (Q * (r - r0 * dteta_cos)) / (gamma * denominator)\n",
    "    F_teta = (Q * (r0 * dteta_sin)) / (gamma * denominator)\n",
    "   \n",
    "    teta_sin = np.sin(teta)\n",
    "    teta_cos = np.cos(teta)\n",
    "\n",
    "    K = 1 / (4 * pi * eps0)\n",
    "    Fx = K * (F_r * teta_cos - F_teta * teta_sin)\n",
    "    Fy = K * (F_r * teta_sin + F_teta * teta_cos)\n",
    "    Fz = K * (Q * z_hat / denominator)\n",
    "   \n",
    "    return [Fx, Fy, Fz]\n",
    "\n",
    "#%lprun -f get_coulomb_force get_coulomb_force(bunch[0], bunch[1])\n",
    "[x.to_base_units() for x in get_coulomb_force(bunch[0], bunch[4])]"
   ]
  },
  {
   "cell_type": "markdown",
   "metadata": {},
   "source": [
    "# Динамика"
   ]
  },
  {
   "cell_type": "code",
   "execution_count": 101,
   "metadata": {},
   "outputs": [],
   "source": [
    "# Частица действует сама на себя? Для черенковской силы?\n",
    "# Поправка силы const ldouble abs_val = abs(q_e / data.bunches[s].p[0].q);\n",
    "# Какая частица впереди?\n",
    "\n",
    "dt = 1e-10 * ureg.sec\n",
    "Rc = 2.5 * ureg.meter"
   ]
  },
  {
   "cell_type": "code",
   "execution_count": null,
   "metadata": {},
   "outputs": [],
   "source": []
  },
  {
   "cell_type": "code",
   "execution_count": 102,
   "metadata": {
    "code_folding": []
   },
   "outputs": [],
   "source": [
    "init_q = 0.2 * ureg(\"nanocoulomb\")\n",
    "init_pulse = np.array([0, 0, 0]) * ureg(\"kg * m / s\")\n",
    "init_W = 100 * ureg.megaelectron_volt\n",
    "\n",
    "bunch = [\n",
    "    Particle(init_q, np.array([ 0.01,  0.01, 0]) * ureg.cm, init_pulse, init_W),\n",
    "    Particle(init_q, np.array([-0.01,  0.01, 0]) * ureg.cm, init_pulse, init_W),\n",
    "    Particle(init_q, np.array([-0.01, -0.01, 0]) * ureg.cm, init_pulse, init_W),\n",
    "    Particle(init_q, np.array([ 0.01, -0.01, 0]) * ureg.cm, init_pulse, init_W),\n",
    "    Particle(init_q, np.array([ 0.00,  0.00, 0]) * ureg.cm, init_pulse, init_W),\n",
    "]"
   ]
  },
  {
   "cell_type": "code",
   "execution_count": 103,
   "metadata": {},
   "outputs": [
    {
     "data": {
      "text/plain": [
       "<class Particle>\n",
       "Координата: [0.0 0.0 0.0] centimeter\n",
       "Импульс: [0.0 0.0 0.0] kilogram * meter / second\n",
       "Энергия: 100 megaelectron_volt\n",
       "Заряд: 0.2 nanocoulomb"
      ]
     },
     "execution_count": 103,
     "metadata": {},
     "output_type": "execute_result"
    }
   ],
   "source": [
    "bunch[4]"
   ]
  },
  {
   "cell_type": "code",
   "execution_count": 121,
   "metadata": {
    "code_folding": []
   },
   "outputs": [
    {
     "data": {
      "application/vnd.jupyter.widget-view+json": {
       "model_id": "472451ae9d2744af98e875444c03e772",
       "version_major": 2,
       "version_minor": 0
      },
      "text/plain": [
       "HBox(children=(FloatProgress(value=0.0, max=5.0), HTML(value='')))"
      ]
     },
     "metadata": {},
     "output_type": "display_data"
    },
    {
     "name": "stdout",
     "output_type": "stream",
     "text": [
      "\n",
      "1 [<Quantity(12.711328, 'dyne')>, <Quantity(12.711328, 'dyne')>, <Quantity(0.0, 'dyne')>]\n",
      "2 [<Quantity(-12.711328, 'dyne')>, <Quantity(12.711328, 'dyne')>, <Quantity(0.0, 'dyne')>]\n",
      "3 [<Quantity(-12.711328, 'dyne')>, <Quantity(-12.711328, 'dyne')>, <Quantity(0.0, 'dyne')>]\n",
      "4 [<Quantity(12.711328, 'dyne')>, <Quantity(-12.711328, 'dyne')>, <Quantity(0.0, 'dyne')>]\n",
      "5 [<Quantity(1.77635684e-15, 'dyne')>, <Quantity(-8.8817842e-16, 'dyne')>, <Quantity(0.0, 'dyne')>]\n"
     ]
    }
   ],
   "source": [
    "from collections import defaultdict\n",
    "from tqdm.notebook import tqdm\n",
    "\n",
    "forces = [[0 * ureg(\"dyne\")] * 3 for _ in bunch]\n",
    "\n",
    "for i in tqdm(range(len(bunch))):\n",
    "    p1 = bunch[i]\n",
    "    for j in range(i+1, len(bunch)):\n",
    "        p2 = bunch[j]\n",
    "\n",
    "        fx, fy, fz = [x.to(\"dyne\") for x in get_coulomb_force(p1, p2)]\n",
    "        #print((i+1, j+1), (fx.magnitude, fy.magnitude, fz.magnitude))\n",
    "\n",
    "        forces[j][0] += fx\n",
    "        forces[j][1] += fy\n",
    "        forces[j][2] += fz\n",
    "\n",
    "        forces[i][0] -= fx\n",
    "        forces[i][1] -= fy\n",
    "        forces[i][2] -= fz\n",
    "            \n",
    "for i, force in enumerate(forces):\n",
    "    print(i+1, force)"
   ]
  },
  {
   "cell_type": "code",
   "execution_count": 565,
   "metadata": {},
   "outputs": [
    {
     "data": {
      "application/vnd.jupyter.widget-view+json": {
       "model_id": "12940d6977204414857d9ef3da033031",
       "version_major": 2,
       "version_minor": 0
      },
      "text/plain": [
       "HBox(children=(FloatProgress(value=0.0, max=4.0), HTML(value='')))"
      ]
     },
     "metadata": {},
     "output_type": "display_data"
    },
    {
     "name": "stdout",
     "output_type": "stream",
     "text": [
      "\n",
      "1 [22972339.442793768, -22972339.44279377, 6.206958912422761e-19]\n",
      "2 [-22972339.442793775, -22972339.442793768, -3.4345050730530707e-19]\n",
      "3 [-22972339.442793768, 22972339.44279377, -2.1104026056863106e-19]\n",
      "0 [22972339.44279377, 22972339.442793764, -6.620512336833792e-20]\n"
     ]
    },
    {
     "data": {
      "application/vnd.jupyter.widget-view+json": {
       "model_id": "a0aa36cafacb4199ab3eae7931a92025",
       "version_major": 2,
       "version_minor": 0
      },
      "text/plain": [
       "HBox(children=(FloatProgress(value=0.0, max=4.0), HTML(value='')))"
      ]
     },
     "metadata": {},
     "output_type": "display_data"
    },
    {
     "name": "stdout",
     "output_type": "stream",
     "text": [
      "\n"
     ]
    }
   ],
   "source": [
    "forces = get_forces()\n",
    "\n",
    "for key in forces:\n",
    "    print(key, [x.magnitude for x in forces[key]])\n",
    "\n",
    "for i in tqdm(range(len(bunch))):\n",
    "    bunch[i].pulse[0] += forces[i][0] * dt;\n",
    "    bunch[i].pulse[1] += forces[i][1] * dt;\n",
    "    bunch[i].pulse[2] += forces[i][2] * dt;\n",
    "    \n",
    "    bunch[i].recount_enegrgy()\n",
    "    \n",
    "    bunch[i].pos[0] += bunch[i].pulse[0] * (c**2 / bunch[i].W) * dt;\n",
    "    bunch[i].pos[1] += bunch[i].pulse[1] * (c**2 / bunch[i].W) * dt;\n",
    "    bunch[i].pos[2] += bunch[i].pulse[2] * (c**2 / bunch[i].W) * dt;"
   ]
  },
  {
   "cell_type": "code",
   "execution_count": 566,
   "metadata": {},
   "outputs": [
    {
     "data": {
      "text/html": [
       "3.3963786236856154×10<sup>-15</sup> kilogram meter<sup>3</sup>/(megaelectron_volt second<sup>2</sup>)"
      ],
      "text/latex": [
       "$3.3963786236856154\\times 10^{-15}\\ \\frac{\\mathrm{kilogram} \\cdot \\mathrm{meter}^{3}}{\\left(\\mathrm{megaelectron\\_volt} \\cdot \\mathrm{second}^{2}\\right)}$"
      ],
      "text/plain": [
       "3.3963786236856154e-15 <Unit('kilogram * meter ** 3 / megaelectron_volt / second ** 2')>"
      ]
     },
     "execution_count": 566,
     "metadata": {},
     "output_type": "execute_result"
    }
   ],
   "source": [
    "bunch[0].pulse[0] * (c**2 / bunch[0].W) * dt"
   ]
  },
  {
   "cell_type": "code",
   "execution_count": 567,
   "metadata": {},
   "outputs": [
    {
     "data": {
      "text/plain": [
       "<class Particle>\n",
       "Координата: [1.0211985280000384 -1.0211985280000384 2.7683547115360526e-19] meter\n",
       "Импульс: [0.002297233944279377 -0.0022972339442793774 3.000000006206959e-20] kilogram * meter / second\n",
       "Энергия: 6.07897744318806e+18 megaelectron_volt\n",
       "Заряд: 0.910938356 coulomb"
      ]
     },
     "execution_count": 567,
     "metadata": {},
     "output_type": "execute_result"
    }
   ],
   "source": [
    "bunch[1]"
   ]
  },
  {
   "cell_type": "markdown",
   "metadata": {},
   "source": [
    "# Визуализация"
   ]
  },
  {
   "cell_type": "code",
   "execution_count": 568,
   "metadata": {
    "code_folding": []
   },
   "outputs": [
    {
     "data": {
      "text/plain": [
       "Text(0, 0.5, 'Energy, MeV')"
      ]
     },
     "execution_count": 568,
     "metadata": {},
     "output_type": "execute_result"
    },
    {
     "data": {
      "image/png": "[encoded data removed]",
      "text/plain": [
       "<Figure size 1440x432 with 4 Axes>"
      ]
     },
     "metadata": {},
     "output_type": "display_data"
    }
   ],
   "source": [
    "# Возможность зафиксировать границы волновода\n",
    "\n",
    "poses = []\n",
    "pulses = []\n",
    "ws = []\n",
    "\n",
    "for p in bunch:\n",
    "    pos = [x.magnitude for x in p.pos]\n",
    "    pulse = [x.magnitude for x in p.pulse]\n",
    "    \n",
    "    poses.append(pos)\n",
    "    pulses.append(pulse)\n",
    "    \n",
    "    ws.append(p.W.magnitude)\n",
    "    \n",
    "poses = np.array(poses)\n",
    "pulses = np.array(pulses)\n",
    "ws = np.array(ws)\n",
    "\n",
    "\n",
    "cmap = sns.cubehelix_palette(as_cmap=True)\n",
    "\n",
    "\n",
    "xs, ys, zs = poses[:,0], poses[:,1], poses[:,2]\n",
    "\n",
    "interval = (-Rc.magnitude, Rc.magnitude)\n",
    "\n",
    "matplotlib.rcParams.update({'font.size': 22})\n",
    "fig = plt.figure(figsize=(20, 6))\n",
    "\n",
    "ax = fig.add_subplot(131)\n",
    "points = ax.scatter(xs, ys, s=10, cmap=cmap)\n",
    "ax.set_xlabel('X Label'); ax.set_xlim(*interval);\n",
    "ax.set_ylabel('Y Label'); ax.set_ylim(*interval)\n",
    "\n",
    "ax = fig.add_subplot(132)\n",
    "points = ax.scatter(xs, zs, s=10, cmap=cmap)\n",
    "ax.set_xlabel('X Label'); ax.set_xlim(*interval)\n",
    "ax.set_ylabel('Z Label')\n",
    "\n",
    "ax = fig.add_subplot(133)\n",
    "points = ax.scatter(ys, zs, s=10, cmap=cmap)\n",
    "ax.set_xlabel('Y Label'); ax.set_xlim(*interval)\n",
    "ax.set_ylabel('Z Label')\n",
    "\n",
    "ax = fig.add_axes([0.92, 0.05, 0.02, 0.9])\n",
    "cbar = plt.colorbar(points, cax=ax)\n",
    "\n",
    "ax.set_ylabel('Energy, MeV', labelpad=15)"
   ]
  },
  {
   "cell_type": "code",
   "execution_count": 569,
   "metadata": {},
   "outputs": [
    {
     "data": {
      "text/plain": [
       "<class Particle>\n",
       "Координата: [1.0211985280000384 1.0211985280000384 2.7683547052174337e-19] meter\n",
       "Импульс: [0.0022972339442793774 0.0022972339442793766 2.999999999337949e-20] kilogram * meter / second\n",
       "Энергия: 6.07897744318806e+18 megaelectron_volt\n",
       "Заряд: 0.910938356 coulomb"
      ]
     },
     "execution_count": 569,
     "metadata": {},
     "output_type": "execute_result"
    }
   ],
   "source": [
    "bunch[0]"
   ]
  },
  {
   "cell_type": "code",
   "execution_count": null,
   "metadata": {},
   "outputs": [],
   "source": []
  }
 ],
 "metadata": {
  "kernelspec": {
   "display_name": "Python 3",
   "language": "python",
   "name": "python3"
  },
  "language_info": {
   "codemirror_mode": {
    "name": "ipython",
    "version": 3
   },
   "file_extension": ".py",
   "mimetype": "text/x-python",
   "name": "python",
   "nbconvert_exporter": "python",
   "pygments_lexer": "ipython3",
   "version": "3.7.6"
  }
 },
 "nbformat": 4,
 "nbformat_minor": 4
}
